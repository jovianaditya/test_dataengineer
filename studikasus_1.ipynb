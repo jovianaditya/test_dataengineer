{
 "cells": [
  {
   "cell_type": "code",
   "execution_count": 1,
   "id": "de351c40-ac23-42dd-910b-73dc2a2fcfd5",
   "metadata": {},
   "outputs": [
    {
     "data": {
      "text/html": [
       "<div>\n",
       "<style scoped>\n",
       "    .dataframe tbody tr th:only-of-type {\n",
       "        vertical-align: middle;\n",
       "    }\n",
       "\n",
       "    .dataframe tbody tr th {\n",
       "        vertical-align: top;\n",
       "    }\n",
       "\n",
       "    .dataframe thead th {\n",
       "        text-align: right;\n",
       "    }\n",
       "</style>\n",
       "<table border=\"1\" class=\"dataframe\">\n",
       "  <thead>\n",
       "    <tr style=\"text-align: right;\">\n",
       "      <th></th>\n",
       "      <th>ship_id</th>\n",
       "      <th>arrival_time</th>\n",
       "      <th>departure_time</th>\n",
       "      <th>cargo_weight</th>\n",
       "      <th>crane_id</th>\n",
       "      <th>operation_time</th>\n",
       "    </tr>\n",
       "  </thead>\n",
       "  <tbody>\n",
       "    <tr>\n",
       "      <th>0</th>\n",
       "      <td>SHIP_1</td>\n",
       "      <td>2024-11-30 22:17:10.647379</td>\n",
       "      <td>2024-12-01 06:17:10.647379</td>\n",
       "      <td>2529.54</td>\n",
       "      <td>CRANE_1</td>\n",
       "      <td>82.99</td>\n",
       "    </tr>\n",
       "    <tr>\n",
       "      <th>1</th>\n",
       "      <td>SHIP_2</td>\n",
       "      <td>2024-11-19 03:33:27.647379</td>\n",
       "      <td>2024-11-19 10:33:27.647379</td>\n",
       "      <td>1376.21</td>\n",
       "      <td>CRANE_2</td>\n",
       "      <td>217.78</td>\n",
       "    </tr>\n",
       "    <tr>\n",
       "      <th>2</th>\n",
       "      <td>SHIP_3</td>\n",
       "      <td>2024-12-07 02:45:37.647379</td>\n",
       "      <td>2024-12-07 05:45:37.647379</td>\n",
       "      <td>3832.93</td>\n",
       "      <td>CRANE_3</td>\n",
       "      <td>153.52</td>\n",
       "    </tr>\n",
       "    <tr>\n",
       "      <th>3</th>\n",
       "      <td>SHIP_4</td>\n",
       "      <td>2024-11-26 22:50:30.647379</td>\n",
       "      <td>2024-11-27 06:50:30.647379</td>\n",
       "      <td>2369.53</td>\n",
       "      <td>CRANE_4</td>\n",
       "      <td>219.34</td>\n",
       "    </tr>\n",
       "    <tr>\n",
       "      <th>4</th>\n",
       "      <td>SHIP_5</td>\n",
       "      <td>2024-12-02 18:31:39.647379</td>\n",
       "      <td>2024-12-02 22:31:39.647379</td>\n",
       "      <td>4466.51</td>\n",
       "      <td>CRANE_5</td>\n",
       "      <td>183.60</td>\n",
       "    </tr>\n",
       "  </tbody>\n",
       "</table>\n",
       "</div>"
      ],
      "text/plain": [
       "  ship_id               arrival_time             departure_time  cargo_weight  \\\n",
       "0  SHIP_1 2024-11-30 22:17:10.647379 2024-12-01 06:17:10.647379       2529.54   \n",
       "1  SHIP_2 2024-11-19 03:33:27.647379 2024-11-19 10:33:27.647379       1376.21   \n",
       "2  SHIP_3 2024-12-07 02:45:37.647379 2024-12-07 05:45:37.647379       3832.93   \n",
       "3  SHIP_4 2024-11-26 22:50:30.647379 2024-11-27 06:50:30.647379       2369.53   \n",
       "4  SHIP_5 2024-12-02 18:31:39.647379 2024-12-02 22:31:39.647379       4466.51   \n",
       "\n",
       "  crane_id  operation_time  \n",
       "0  CRANE_1           82.99  \n",
       "1  CRANE_2          217.78  \n",
       "2  CRANE_3          153.52  \n",
       "3  CRANE_4          219.34  \n",
       "4  CRANE_5          183.60  "
      ]
     },
     "execution_count": 1,
     "metadata": {},
     "output_type": "execute_result"
    }
   ],
   "source": [
    "import pandas as pd\n",
    "import numpy as np\n",
    "from datetime import datetime, timedelta\n",
    "\n",
    "n = 1000\n",
    "ship_ids = [f\"SHIP_{i%12+1}\" for i in range(n)]\n",
    "crane_ids = [f\"CRANE_{i%6+1}\" for i in range(n)]\n",
    "\n",
    "arrival_times = [\n",
    "    datetime.now().replace(hour=np.random.randint(0, 24), \n",
    "                           minute=np.random.randint(0, 60),\n",
    "                           second=np.random.randint(0, 60)) - timedelta(days=np.random.randint(1, 30))\n",
    "    for _ in range(n)\n",
    "]\n",
    "\n",
    "departure_times = [arrival_time + timedelta(hours=np.random.randint(1, 12)) for arrival_time in arrival_times]\n",
    "cargo_weights = [round(np.random.uniform(1000, 5000), 2) for _ in range(n)]\n",
    "operation_times = [round(np.random.uniform(60, 240), 2) for _ in range(n)]  # in minutes\n",
    "\n",
    "df = pd.DataFrame({\n",
    "    'ship_id': ship_ids,\n",
    "    'arrival_time': arrival_times,\n",
    "    'departure_time': departure_times,\n",
    "    'cargo_weight': cargo_weights,\n",
    "    'crane_id': crane_ids,\n",
    "    'operation_time': operation_times\n",
    "})\n",
    "\n",
    "df.head()"
   ]
  },
  {
   "cell_type": "markdown",
   "id": "3289d352-95bc-4332-8887-86b224e2339e",
   "metadata": {},
   "source": [
    "asumsi pembuatan dummy data yaitu ship_id berulang, sehingga bisa menunjukkan rata2 operation time untuk setiap ship"
   ]
  },
  {
   "cell_type": "code",
   "execution_count": 3,
   "id": "9d677493-91bc-4651-9474-1b457a84e7fb",
   "metadata": {},
   "outputs": [],
   "source": [
    "df.to_csv('ship_operations_data.csv', sep=',', index=False)"
   ]
  },
  {
   "cell_type": "code",
   "execution_count": 4,
   "id": "b587b758-b08f-4b10-9be0-96513b3128ee",
   "metadata": {},
   "outputs": [],
   "source": [
    "import pandas as pd\n",
    "import numpy as np\n",
    "from datetime import datetime, timedelta\n",
    "df = pd.read_csv(\"D:/ARSIP/Testing/ship_operations_data.csv\")"
   ]
  },
  {
   "cell_type": "code",
   "execution_count": 5,
   "id": "c4198200-4f1f-473f-ba26-28cdd812015c",
   "metadata": {},
   "outputs": [],
   "source": [
    "avg_operation_time_per_ship = df.groupby('ship_id')['operation_time'].mean().reset_index()"
   ]
  },
  {
   "cell_type": "code",
   "execution_count": 6,
   "id": "51873ea6-a0a8-481c-8c31-05037fc85acc",
   "metadata": {},
   "outputs": [
    {
     "data": {
      "text/html": [
       "<div>\n",
       "<style scoped>\n",
       "    .dataframe tbody tr th:only-of-type {\n",
       "        vertical-align: middle;\n",
       "    }\n",
       "\n",
       "    .dataframe tbody tr th {\n",
       "        vertical-align: top;\n",
       "    }\n",
       "\n",
       "    .dataframe thead th {\n",
       "        text-align: right;\n",
       "    }\n",
       "</style>\n",
       "<table border=\"1\" class=\"dataframe\">\n",
       "  <thead>\n",
       "    <tr style=\"text-align: right;\">\n",
       "      <th></th>\n",
       "      <th>ship_id</th>\n",
       "      <th>operation_time</th>\n",
       "    </tr>\n",
       "  </thead>\n",
       "  <tbody>\n",
       "    <tr>\n",
       "      <th>0</th>\n",
       "      <td>SHIP_1</td>\n",
       "      <td>149.454524</td>\n",
       "    </tr>\n",
       "    <tr>\n",
       "      <th>1</th>\n",
       "      <td>SHIP_10</td>\n",
       "      <td>157.659277</td>\n",
       "    </tr>\n",
       "    <tr>\n",
       "      <th>2</th>\n",
       "      <td>SHIP_11</td>\n",
       "      <td>153.953373</td>\n",
       "    </tr>\n",
       "    <tr>\n",
       "      <th>3</th>\n",
       "      <td>SHIP_12</td>\n",
       "      <td>144.101446</td>\n",
       "    </tr>\n",
       "    <tr>\n",
       "      <th>4</th>\n",
       "      <td>SHIP_2</td>\n",
       "      <td>147.196786</td>\n",
       "    </tr>\n",
       "    <tr>\n",
       "      <th>5</th>\n",
       "      <td>SHIP_3</td>\n",
       "      <td>158.225476</td>\n",
       "    </tr>\n",
       "    <tr>\n",
       "      <th>6</th>\n",
       "      <td>SHIP_4</td>\n",
       "      <td>160.199286</td>\n",
       "    </tr>\n",
       "    <tr>\n",
       "      <th>7</th>\n",
       "      <td>SHIP_5</td>\n",
       "      <td>145.758072</td>\n",
       "    </tr>\n",
       "    <tr>\n",
       "      <th>8</th>\n",
       "      <td>SHIP_6</td>\n",
       "      <td>149.062892</td>\n",
       "    </tr>\n",
       "    <tr>\n",
       "      <th>9</th>\n",
       "      <td>SHIP_7</td>\n",
       "      <td>152.738193</td>\n",
       "    </tr>\n",
       "    <tr>\n",
       "      <th>10</th>\n",
       "      <td>SHIP_8</td>\n",
       "      <td>148.776506</td>\n",
       "    </tr>\n",
       "    <tr>\n",
       "      <th>11</th>\n",
       "      <td>SHIP_9</td>\n",
       "      <td>146.944940</td>\n",
       "    </tr>\n",
       "  </tbody>\n",
       "</table>\n",
       "</div>"
      ],
      "text/plain": [
       "    ship_id  operation_time\n",
       "0    SHIP_1      149.454524\n",
       "1   SHIP_10      157.659277\n",
       "2   SHIP_11      153.953373\n",
       "3   SHIP_12      144.101446\n",
       "4    SHIP_2      147.196786\n",
       "5    SHIP_3      158.225476\n",
       "6    SHIP_4      160.199286\n",
       "7    SHIP_5      145.758072\n",
       "8    SHIP_6      149.062892\n",
       "9    SHIP_7      152.738193\n",
       "10   SHIP_8      148.776506\n",
       "11   SHIP_9      146.944940"
      ]
     },
     "execution_count": 6,
     "metadata": {},
     "output_type": "execute_result"
    }
   ],
   "source": [
    "avg_operation_time_per_ship"
   ]
  },
  {
   "cell_type": "code",
   "execution_count": 7,
   "id": "2e4267a7-3431-47c1-8557-e2472a29815e",
   "metadata": {},
   "outputs": [],
   "source": [
    "#tapi apabila ingin menghitung average dari keseluruhan ship maka\n",
    "avg_operation = df['operation_time'].mean()\n"
   ]
  },
  {
   "cell_type": "code",
   "execution_count": 8,
   "id": "b39837de-b550-4eec-869d-fc595aa2bf8f",
   "metadata": {},
   "outputs": [
    {
     "data": {
      "text/plain": [
       "151.18295"
      ]
     },
     "execution_count": 8,
     "metadata": {},
     "output_type": "execute_result"
    }
   ],
   "source": [
    "avg_operation"
   ]
  },
  {
   "cell_type": "code",
   "execution_count": 9,
   "id": "3ac125aa-e158-4511-8ed3-cdec1c75f5ba",
   "metadata": {},
   "outputs": [],
   "source": [
    "avg_operation_time_per_crane = df.groupby('crane_id')['operation_time'].mean().reset_index()"
   ]
  },
  {
   "cell_type": "code",
   "execution_count": 10,
   "id": "fb0ef25a-5d89-4246-8af2-c8a5659011fc",
   "metadata": {},
   "outputs": [
    {
     "data": {
      "text/html": [
       "<div>\n",
       "<style scoped>\n",
       "    .dataframe tbody tr th:only-of-type {\n",
       "        vertical-align: middle;\n",
       "    }\n",
       "\n",
       "    .dataframe tbody tr th {\n",
       "        vertical-align: top;\n",
       "    }\n",
       "\n",
       "    .dataframe thead th {\n",
       "        text-align: right;\n",
       "    }\n",
       "</style>\n",
       "<table border=\"1\" class=\"dataframe\">\n",
       "  <thead>\n",
       "    <tr style=\"text-align: right;\">\n",
       "      <th></th>\n",
       "      <th>crane_id</th>\n",
       "      <th>operation_time</th>\n",
       "    </tr>\n",
       "  </thead>\n",
       "  <tbody>\n",
       "    <tr>\n",
       "      <th>0</th>\n",
       "      <td>CRANE_1</td>\n",
       "      <td>151.086527</td>\n",
       "    </tr>\n",
       "    <tr>\n",
       "      <th>1</th>\n",
       "      <td>CRANE_2</td>\n",
       "      <td>147.981916</td>\n",
       "    </tr>\n",
       "    <tr>\n",
       "      <th>2</th>\n",
       "      <td>CRANE_3</td>\n",
       "      <td>152.618982</td>\n",
       "    </tr>\n",
       "    <tr>\n",
       "      <th>3</th>\n",
       "      <td>CRANE_4</td>\n",
       "      <td>158.936886</td>\n",
       "    </tr>\n",
       "    <tr>\n",
       "      <th>4</th>\n",
       "      <td>CRANE_5</td>\n",
       "      <td>149.855723</td>\n",
       "    </tr>\n",
       "    <tr>\n",
       "      <th>5</th>\n",
       "      <td>CRANE_6</td>\n",
       "      <td>146.582169</td>\n",
       "    </tr>\n",
       "  </tbody>\n",
       "</table>\n",
       "</div>"
      ],
      "text/plain": [
       "  crane_id  operation_time\n",
       "0  CRANE_1      151.086527\n",
       "1  CRANE_2      147.981916\n",
       "2  CRANE_3      152.618982\n",
       "3  CRANE_4      158.936886\n",
       "4  CRANE_5      149.855723\n",
       "5  CRANE_6      146.582169"
      ]
     },
     "execution_count": 10,
     "metadata": {},
     "output_type": "execute_result"
    }
   ],
   "source": [
    "avg_operation_time_per_crane"
   ]
  },
  {
   "cell_type": "code",
   "execution_count": 11,
   "id": "e1249ba8-7d8d-4a00-831a-5e4ef56e2ed0",
   "metadata": {},
   "outputs": [
    {
     "name": "stdout",
     "output_type": "stream",
     "text": [
      "Requirement already satisfied: psycopg2 in c:\\users\\jovian\\anaconda3\\lib\\site-packages (2.9.10)\n",
      "Note: you may need to restart the kernel to use updated packages.\n"
     ]
    }
   ],
   "source": [
    "pip install psycopg2\n"
   ]
  },
  {
   "cell_type": "code",
   "execution_count": 12,
   "id": "532e58fa-b648-4c43-b017-11e9cba3cc74",
   "metadata": {},
   "outputs": [],
   "source": [
    "from sqlalchemy import create_engine\n",
    "\n",
    "user = 'postgres'  \n",
    "password = '******'  \n",
    "host = 'localhost'  \n",
    "port = '5432'  \n",
    "database = 'testing'"
   ]
  },
  {
   "cell_type": "code",
   "execution_count": 13,
   "id": "39761350-53be-4f95-86d1-32808481c8e1",
   "metadata": {},
   "outputs": [],
   "source": [
    "engine = create_engine(f'postgresql://{user}:{password}@{host}:{port}/{database}')"
   ]
  },
  {
   "cell_type": "code",
   "execution_count": 14,
   "id": "7e5a2872-c2e4-4db5-8e1e-41fd014188aa",
   "metadata": {},
   "outputs": [
    {
     "data": {
      "text/plain": [
       "12"
      ]
     },
     "execution_count": 14,
     "metadata": {},
     "output_type": "execute_result"
    }
   ],
   "source": [
    "avg_operation_time_per_ship.to_sql('avg_operation_time_per_ship', engine, if_exists='replace', index=False)"
   ]
  },
  {
   "cell_type": "code",
   "execution_count": 15,
   "id": "082a041f-dd07-4793-af47-c3e7f2f88771",
   "metadata": {},
   "outputs": [
    {
     "data": {
      "text/plain": [
       "6"
      ]
     },
     "execution_count": 15,
     "metadata": {},
     "output_type": "execute_result"
    }
   ],
   "source": [
    "avg_operation_time_per_crane.to_sql('avg_operation_time_per_crane', engine, if_exists='replace', index=False)"
   ]
  }
 ],
 "metadata": {
  "kernelspec": {
   "display_name": "Python [conda env:base] *",
   "language": "python",
   "name": "conda-base-py"
  },
  "language_info": {
   "codemirror_mode": {
    "name": "ipython",
    "version": 3
   },
   "file_extension": ".py",
   "mimetype": "text/x-python",
   "name": "python",
   "nbconvert_exporter": "python",
   "pygments_lexer": "ipython3",
   "version": "3.12.7"
  }
 },
 "nbformat": 4,
 "nbformat_minor": 5
}
